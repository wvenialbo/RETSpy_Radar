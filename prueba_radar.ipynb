{
 "cells": [
  {
   "cell_type": "code",
   "execution_count": null,
   "id": "277f210a-7551-4173-a2d8-4c39bd589f11",
   "metadata": {},
   "outputs": [],
   "source": [
    "from smn_radar import RobotSmnRadar\n"
   ]
  },
  {
   "cell_type": "code",
   "execution_count": null,
   "id": "bf273245-d0a4-4d56-8abb-77ca11d8acde",
   "metadata": {},
   "outputs": [],
   "source": [
    "# Ejemplo de uso:\n",
    "#\n",
    "# Identificadores de estación:\n",
    "# * Las Lomitas : RMA3_240\n",
    "# * Irigoyen    : RMA5_240\n",
    "# * Mercedes    : RMA8_240\n",
    "# * Resistencia : RMA4_240\n",
    "\n",
    "estaciones = [\"RMA3_240\", \"RMA4_240\", \"RMA5_240\", \"RMA8_240\", ]\n",
    "\n",
    "robot = RobotSmnRadar(\"./repo/\", 5)\n",
    "\n",
    "robot.run(estaciones)\n"
   ]
  },
  {
   "cell_type": "code",
   "execution_count": null,
   "id": "5bc964e9-3c3c-431a-9f74-8f4eb9b556a0",
   "metadata": {},
   "outputs": [],
   "source": [
    "# Ejemplo de uso:\n",
    "#\n",
    "# Identificadores de estación:\n",
    "# * Mosaico completo : COMP_ARG\n",
    "# * Irigoyen    : RMA5_240\n",
    "# * Mercedes    : RMA8_240\n",
    "# * Resistencia : RMA4_240\n",
    "\n",
    "mosaicos = [\"COMP_ARG\", \"COMP_NOR\", \"COMP_CEN\", ]\n",
    "\n",
    "robot_m = RobotSmnRadar(\"./mosaic/\", 5)\n",
    "\n",
    "robot_m.run(mosaicos)\n"
   ]
  }
 ],
 "metadata": {
  "kernelspec": {
   "display_name": "Python 3 (ipykernel)",
   "language": "python",
   "name": "python3"
  },
  "language_info": {
   "codemirror_mode": {
    "name": "ipython",
    "version": 3
   },
   "file_extension": ".py",
   "mimetype": "text/x-python",
   "name": "python",
   "nbconvert_exporter": "python",
   "pygments_lexer": "ipython3",
   "version": "3.11.4"
  }
 },
 "nbformat": 4,
 "nbformat_minor": 5
}
